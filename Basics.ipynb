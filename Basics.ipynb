{
 "cells": [
  {
   "cell_type": "markdown",
   "metadata": {},
   "source": [
    "# Building A Database For Crime Reports"
   ]
  },
  {
   "cell_type": "markdown",
   "metadata": {},
   "source": [
    "In this notebook, we will use Postgres to build a database for storing data about crimes that occurred in Boston. The dataset is available in the file boston.csv.\n",
    "\n",
    "We will create a database named crimes_db, with a schema named crimes, and a table named boston_crimes with data from the boston.csv file. We will also create readonly and readwrite groups with appropriate priviledges, as well as example users for each of these groups."
   ]
  },
  {
   "cell_type": "markdown",
   "metadata": {},
   "source": [
    "## Creating the Crime Database"
   ]
  },
  {
   "cell_type": "markdown",
   "metadata": {},
   "source": [
    "We will start by creating the database for storing our crime data, as well as the schema."
   ]
  },
  {
   "cell_type": "code",
   "execution_count": 1,
   "metadata": {},
   "outputs": [],
   "source": [
    "import psycopg2\n",
    "import csv"
   ]
  },
  {
   "cell_type": "code",
   "execution_count": null,
   "metadata": {},
   "outputs": [],
   "source": [
    "# crime_db does not exist yet, so we connect to postgres db first and create the crime_db from there.\n",
    "conn = psycopg2.connect(dbname=\"postgres\", user=\"postgres\")\n",
    "conn.autocommit = True\n",
    "cursor = conn.cursor()\n",
    "cursor.execute(\"CREATE DATABASE crime_db;\")\n",
    "conn.close()"
   ]
  },
  {
   "cell_type": "code",
   "execution_count": 12,
   "metadata": {},
   "outputs": [],
   "source": [
    "# Connect to crime_db and create schema named crimes.\n",
    "conn = psycopg2.connect(dbname=\"crime_db\", user=\"postgres\")\n",
    "cursor = conn.cursor()\n",
    "cursor.execute(\"CREATE SCHEMA crimes;\")"
   ]
  },
  {
   "cell_type": "markdown",
   "metadata": {},
   "source": [
    "## Obtaining the Column Names and Sample"
   ]
  },
  {
   "cell_type": "markdown",
   "metadata": {},
   "source": [
    "Before we load data into our table, let's first understand the crime dataset so we can choose the right datatypes to use in our table."
   ]
  },
  {
   "cell_type": "code",
   "execution_count": 2,
   "metadata": {},
   "outputs": [
    {
     "name": "stdout",
     "output_type": "stream",
     "text": [
      "Column Headers:  ['incident_number', 'offense_code', 'description', 'date', 'day_of_the_week', 'lat', 'long']\n",
      "First Data Row:  ['1', '619', 'LARCENY ALL OTHERS', '2018-09-02', 'Sunday', '42.35779134', '-71.13937053']\n"
     ]
    }
   ],
   "source": [
    "with open(\"boston.csv\", \"r\") as file:\n",
    "    row_list = list(csv.reader(file))\n",
    "    \n",
    "col_headers = row_list[0]\n",
    "first_row = row_list[1]\n",
    "\n",
    "print(\"Column Headers: \", col_headers)\n",
    "print(\"First Data Row: \", first_row)"
   ]
  },
  {
   "cell_type": "markdown",
   "metadata": {},
   "source": [
    "## Creating an Auxiliary Function"
   ]
  },
  {
   "cell_type": "markdown",
   "metadata": {},
   "source": [
    "Let's write a function -- get_col_set() -- that will help us identify proper datatypes for the columns. This function will return a set of all distinct values in a column of a CSV file. This will allow us to see if any columns can be of enumerated type and will allow us to easily calculate the maximum length of data in column so we can appropriately set VARCHAR.\n",
    "\n",
    "We will start off by using this function to find the number of different values in each column of the boston.csv file."
   ]
  },
  {
   "cell_type": "code",
   "execution_count": 3,
   "metadata": {},
   "outputs": [],
   "source": [
    "def get_col_set(csv_filename, col_index):\n",
    "    unique_values = set()\n",
    "    \n",
    "    with open(csv_filename, 'r') as file:\n",
    "        file_list = list(csv.reader(file))\n",
    "        for item in file_list[1:]:\n",
    "            unique_values.add(item[col_index])\n",
    "    \n",
    "    return unique_values"
   ]
  },
  {
   "cell_type": "code",
   "execution_count": 4,
   "metadata": {},
   "outputs": [
    {
     "name": "stdout",
     "output_type": "stream",
     "text": [
      "[298329, 219, 239, 1177, 7, 18177, 18177]\n"
     ]
    }
   ],
   "source": [
    "num_distinct_values = []\n",
    "for index in range(0, len(col_headers)):\n",
    "    num_distinct_values.append(len(get_col_set(\"boston.csv\", index)))\n",
    "    \n",
    "print(num_distinct_values)"
   ]
  },
  {
   "cell_type": "markdown",
   "metadata": {},
   "source": [
    "Columns with a low number of distinct values are usually good candidates for enumerated data type. (In this case, column 5 has 7 distinct values, and corresponds to day_of_the_week, which we can definitely use enumerated data type for).\n",
    "\n",
    "In addition, for our text columns, we want to know what the max-length value is so we can set the appropriate length for varchar. In this case, the description column (column 3) is the only other text column that we need to do this for."
   ]
  },
  {
   "cell_type": "code",
   "execution_count": 6,
   "metadata": {},
   "outputs": [
    {
     "name": "stdout",
     "output_type": "stream",
     "text": [
      "58\n"
     ]
    }
   ],
   "source": [
    "description_values = get_col_set(\"boston.csv\", 2)\n",
    "description_values_lengths = [len(value) for value in description_values]\n",
    "max_description_value_length = max(description_values_lengths)\n",
    "print(max_description_value_length)"
   ]
  },
  {
   "cell_type": "markdown",
   "metadata": {},
   "source": [
    "## Creating the Table"
   ]
  },
  {
   "cell_type": "markdown",
   "metadata": {},
   "source": [
    "Now, we will create the boston_crimes table inside the crimes schema of the crime_db database.\n",
    "First, let's identify suitable column names:"
   ]
  },
  {
   "cell_type": "code",
   "execution_count": 7,
   "metadata": {},
   "outputs": [
    {
     "name": "stdout",
     "output_type": "stream",
     "text": [
      "['incident_number', 'offense_code', 'description', 'date', 'day_of_the_week', 'lat', 'long']\n"
     ]
    }
   ],
   "source": [
    "print(col_headers)"
   ]
  },
  {
   "cell_type": "markdown",
   "metadata": {},
   "source": [
    "We will stick with these column names for our table.  \n",
    "Let's remember what kind of data is contained in each column."
   ]
  },
  {
   "cell_type": "code",
   "execution_count": 8,
   "metadata": {},
   "outputs": [
    {
     "name": "stdout",
     "output_type": "stream",
     "text": [
      "['1', '619', 'LARCENY ALL OTHERS', '2018-09-02', 'Sunday', '42.35779134', '-71.13937053']\n"
     ]
    }
   ],
   "source": [
    "print(first_row)"
   ]
  },
  {
   "cell_type": "markdown",
   "metadata": {},
   "source": [
    "Column 1: INTEGER  \n",
    "Column 2: INTEGER  \n",
    "Column 3: VARCHAR(58)  \n",
    "Column 4: DATE\n",
    "Column 5: ENUM (Monday, Tuesday, Wednesday, Thursday, Friday, Saturday, Sunday)  \n",
    "Column 6: NUMERIC(10, 8) Max/min value of latitude of longitude is 90/-90  \n",
    "Column 7: NUMERIC(10, 8)"
   ]
  },
  {
   "cell_type": "markdown",
   "metadata": {},
   "source": [
    "We must first create the ENUM data type before we can use it in the CREATE TABLE statement."
   ]
  },
  {
   "cell_type": "code",
   "execution_count": 13,
   "metadata": {},
   "outputs": [],
   "source": [
    "cursor.execute(\"\"\"\n",
    "    CREATE TYPE day_of_week AS ENUM (\n",
    "        'Monday', \n",
    "        'Tuesday', \n",
    "        'Wednesday', \n",
    "        'Thursday', \n",
    "        'Friday', \n",
    "        'Saturday', \n",
    "        'Sunday'\n",
    "    );\n",
    "\"\"\")"
   ]
  },
  {
   "cell_type": "markdown",
   "metadata": {},
   "source": [
    "Now we can create the table."
   ]
  },
  {
   "cell_type": "code",
   "execution_count": 14,
   "metadata": {},
   "outputs": [],
   "source": [
    "cursor.execute(\"\"\"\n",
    "    CREATE TABLE crimes.boston_crimes (\n",
    "        incident_number INTEGER PRIMARY KEY,\n",
    "        offense_code INTEGER,\n",
    "        description VARCHAR(58),\n",
    "        date DATE,\n",
    "        day_of_the_week day_of_week,\n",
    "        latitude NUMERIC(10, 8),\n",
    "        longitude NUMERIC(10, 8)\n",
    "    );\n",
    "\"\"\")"
   ]
  },
  {
   "cell_type": "markdown",
   "metadata": {},
   "source": [
    "## Loading the Data"
   ]
  },
  {
   "cell_type": "markdown",
   "metadata": {},
   "source": [
    "We will now load the csv file into our boston_crimes table using copy_expert."
   ]
  },
  {
   "cell_type": "code",
   "execution_count": 17,
   "metadata": {},
   "outputs": [],
   "source": [
    "with open(\"boston.csv\", \"r\") as f:\n",
    "    cursor.copy_expert(\"COPY crimes.boston_crimes FROM STDIN WITH CSV HEADER;\", f)"
   ]
  },
  {
   "cell_type": "markdown",
   "metadata": {},
   "source": [
    "Let's verify that data was loaded into the table."
   ]
  },
  {
   "cell_type": "code",
   "execution_count": 20,
   "metadata": {},
   "outputs": [
    {
     "data": {
      "text/plain": [
       "[(1,\n",
       "  619,\n",
       "  'LARCENY ALL OTHERS',\n",
       "  datetime.date(2018, 9, 2),\n",
       "  'Sunday',\n",
       "  Decimal('42.35779134'),\n",
       "  Decimal('-71.13937053')),\n",
       " (2,\n",
       "  1402,\n",
       "  'VANDALISM',\n",
       "  datetime.date(2018, 8, 21),\n",
       "  'Tuesday',\n",
       "  Decimal('42.30682138'),\n",
       "  Decimal('-71.06030035')),\n",
       " (3,\n",
       "  3410,\n",
       "  'TOWED MOTOR VEHICLE',\n",
       "  datetime.date(2018, 9, 3),\n",
       "  'Monday',\n",
       "  Decimal('42.34658879'),\n",
       "  Decimal('-71.07242943')),\n",
       " (4,\n",
       "  3114,\n",
       "  'INVESTIGATE PROPERTY',\n",
       "  datetime.date(2018, 9, 3),\n",
       "  'Monday',\n",
       "  Decimal('42.33418175'),\n",
       "  Decimal('-71.07866441')),\n",
       " (5,\n",
       "  3114,\n",
       "  'INVESTIGATE PROPERTY',\n",
       "  datetime.date(2018, 9, 3),\n",
       "  'Monday',\n",
       "  Decimal('42.27536542'),\n",
       "  Decimal('-71.09036101'))]"
      ]
     },
     "execution_count": 20,
     "metadata": {},
     "output_type": "execute_result"
    }
   ],
   "source": [
    "cursor.execute(\"SELECT * FROM crimes.boston_crimes LIMIT 5;\")\n",
    "cursor.fetchall()"
   ]
  }
 ],
 "metadata": {
  "kernelspec": {
   "display_name": "Python 3",
   "language": "python",
   "name": "python3"
  },
  "language_info": {
   "codemirror_mode": {
    "name": "ipython",
    "version": 3
   },
   "file_extension": ".py",
   "mimetype": "text/x-python",
   "name": "python",
   "nbconvert_exporter": "python",
   "pygments_lexer": "ipython3",
   "version": "3.8.5"
  }
 },
 "nbformat": 4,
 "nbformat_minor": 2
}
